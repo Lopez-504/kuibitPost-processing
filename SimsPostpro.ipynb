{
 "cells": [
  {
   "cell_type": "markdown",
   "id": "89929f06",
   "metadata": {},
   "source": [
    "# Post-processing simulation using Kuibit \n",
    "\n",
    "**General structure**:\n",
    "\n",
    "- Import libraries\n",
    "- Load simulation directory\n",
    "    - Print all files\n",
    "- Print Simulation info    \n",
    "    - Extract available iterations: \n",
    "    \n",
    "             `sim.gf.xyz['kxx'].available_iterations`\n",
    "    \n",
    "    - Define `avail_iter_max = avail_iter[-1]`\n",
    "    - Define `diter = avail_iter[1]-avail_iter[0]`\n",
    "    - Define `t` and `dt` from cctk_time\n",
    "    - Define $\\delta_{OD, IN}$\n",
    "- Define Hamiltonian and Momentum average timeseries \n",
    "\n",
    "- Define GridFunctions for all available variables: \n",
    "    - Matter density `rho`\n",
    "    - Extrinsic curvature `kxx` \n",
    "    - Trace of K `trK`\n",
    "    - Spatial metric `gxx`\n",
    "    - Determinant of g `detg`\n",
    "    - Ricci tensor `Ricci11`\n",
    "    - Ricci scalar `Ricci`\n",
    "\n",
    "- Plot Hamiltonian and Momentum timeseries\n",
    "    - Maybe discard some of the final iterations \n",
    "\n",
    "- Define corresponding background quantities (FLRW flat dust model or EdS)\n",
    "    - Definitions from **ICCalc.F90**: $s=aa/a0$, $H$, $\\Omega_m$\n",
    "        - $\\bar{K}=-3K$\n",
    "        - $\\bar{\\gamma}=a^6$\n",
    "        - $\\bar{\\rho}=3H^2 \\Omega_m/\\kappa$\n",
    "\n",
    "    - Definitions from Robyn for $\\Lambda=0$ (Validate!)\n",
    "        - I think the formulas for FLRW are still valid here, and we just need to change: \n",
    "            - $s=\\left(\\frac{\\tau}{\\tau_0}\\right)^{2/3}$\n",
    "            - $H=\\frac{2}{3\\tau}$\n",
    "            - $\\Omega_m=1.0$    \n",
    "\n",
    "- Check synchronization and define a coarse scale factor `aa_co` from timeseries, avail_iter_max and diter.\n",
    " \n",
    "- Calculate redshift $z$ from coarse scale factor $a(\\tau)$  \n",
    "\n",
    "- Calculate density contrast, extrinsic curvature contrast, metric contrast     \n",
    "    - Plot curves at the underdensity, underdensity and center of the box \n",
    "    - Plot outer and inner surfaces for the density contrast \n",
    "    - Try and do a 3D animation with isosurfaces of the density contrast at $z_{IN}$ to show:\n",
    "        1. Spherical symmetry near to OD\n",
    "        2. Filamentary-like structures\n",
    "        3. Periodic Boundary conditions\n",
    "        4. compensated inhomogeneity (just one lambda, linear average vanishes)"
   ]
  },
  {
   "cell_type": "code",
   "execution_count": 1,
   "id": "c7127680",
   "metadata": {},
   "outputs": [],
   "source": [
    "# Use et2 for compatibility\n",
    "from kuibit.simdir import SimDir\n",
    "import kuibit.visualize_matplotlib as viz\n",
    "import matplotlib.pyplot as plt\n",
    "import numpy as np\n",
    "import seaborn as sns\n",
    "import itertools\n",
    "\n",
    "# set plot theme \n",
    "sns.set_theme(context='notebook', style='darkgrid', palette='colorblind')"
   ]
  },
  {
   "cell_type": "code",
   "execution_count": 2,
   "id": "4c918271",
   "metadata": {},
   "outputs": [
    {
     "name": "stdout",
     "output_type": "stream",
     "text": [
      "Indexed 34 files and 1 subdirectories\n",
      "Folder /home/jorge/Downloads/output-0000/testPert32_H\n",
      "/home/jorge/Downloads/output-0000/testPert32_H\n",
      "Available scalar timeseries:\n",
      "[]\n",
      "\n",
      "Available minimum timeseries:\n",
      "[]\n",
      "\n",
      "Available maximum timeseries:\n",
      "[]\n",
      "\n",
      "Available norm1 timeseries:\n",
      "[]\n",
      "\n",
      "Available norm2 timeseries:\n",
      "[]\n",
      "\n",
      "Available average timeseries:\n",
      "['kxx', 'kxy', 'kxz', 'kyy', 'kyz', 'kzz', 'gxx', 'gxy', 'gxz', 'gyy', 'gyz', 'gzz', 'alp', 'H', 'rho', 'betax', 'betay', 'betaz', 'M1', 'M2', 'M3']\n",
      "Variables available: dict_keys([])\n",
      "\n",
      "Available grid data of dimension 1D (x): \n",
      "[]\n",
      "\n",
      "\n",
      "Available grid data of dimension 1D (y): \n",
      "[]\n",
      "\n",
      "\n",
      "Available grid data of dimension 1D (z): \n",
      "[]\n",
      "\n",
      "\n",
      "Available grid data of dimension 2D (xy): \n",
      "[]\n",
      "\n",
      "\n",
      "Available grid data of dimension 2D (xz): \n",
      "[]\n",
      "\n",
      "\n",
      "Available grid data of dimension 2D (yz): \n",
      "[]\n",
      "\n",
      "\n",
      "Available grid data of dimension 3D (xyz): \n",
      "['kxx', 'kxy', 'kxz', 'kyy', 'kyz', 'kzz', 'Ricci11', 'Ricci12', 'Ricci13', 'Ricci22', 'Ricci23', 'Ricci33', 'Ricci', 'trK', 'detg', 'NaNmask', 'rho', 'gxx', 'gxy', 'gxz', 'gyy', 'gyz', 'gzz', 'grid_coordinates', 'grid_structure']\n",
      "No horizon found\n",
      "Timers available for processes []\n"
     ]
    }
   ],
   "source": [
    "#pathtosimdir = '/home/jorge/Downloads/output-0000/testPert32_D'\n",
    "#pathtosimdir = '/home/jorge/Downloads/output-0000/testPert32_E'\n",
    "#pathtosimdir = '/home/jorge/Downloads/output-0000/testPert32_F'\n",
    "#pathtosimdir = '/home/jorge/Downloads/output-0000/testPert32_G'\n",
    "pathtosimdir = '/home/jorge/Downloads/output-0000/testPert32_H'\n",
    "#pathtosimdir = '/home/jorge/Downloads/output-0000/testPert32_I'\n",
    "\n",
    "sim = SimDir(pathtosimdir) \n",
    "print(sim)"
   ]
  },
  {
   "cell_type": "code",
   "execution_count": 3,
   "id": "106f00bf",
   "metadata": {},
   "outputs": [
    {
     "name": "stdout",
     "output_type": "stream",
     "text": [
      "Box size   = 32\n",
      "Avail iter = [0, 80, 160] ... [22000, 22080, 22160]\n"
     ]
    }
   ],
   "source": [
    "# Available iterations and box size\n",
    "\n",
    "box = int(pathtosimdir[-4:-2])\n",
    "p = box//4        # OD index          \n",
    "avail_iter = sim.gf.xyz['gxx'].available_iterations \n",
    "avail_iter_max = avail_iter[-1]\n",
    "diter = avail_iter[1]-avail_iter[0]\n",
    "print(f'Box size   = {box}')\n",
    "print(f'Avail iter = {sim.gf.xyz['gxx'].available_iterations[:3]} ... {sim.gf.xyz['kxx'].available_iterations[-3:]}')"
   ]
  },
  {
   "cell_type": "code",
   "execution_count": 4,
   "id": "a4ed1e3e",
   "metadata": {},
   "outputs": [],
   "source": [
    "# Hamiltonian and momentum timeseries\n",
    "\n",
    "M1 = sim.timeseries.average['M1']\n",
    "M2 = sim.timeseries.average['M2']\n",
    "M3 = sim.timeseries.average['M3']\n",
    "H  = sim.timeseries.average['H']\n",
    "\n",
    "# Grid functions\n",
    "\n",
    "## Extrinsic curvature and spatial metric\n",
    "kxx, gxx = sim.gf.xyz['kxx'], sim.gf.xyz['gxx']     # sim.gf.dim['var'][iteration]\n",
    "kxy, gxy = sim.gf.xyz['kxy'], sim.gf.xyz['gxy']\n",
    "kxz, gxz = sim.gf.xyz['kxz'], sim.gf.xyz['gxz']\n",
    "kyy, gyy = sim.gf.xyz['kyy'], sim.gf.xyz['gyy']\n",
    "kyz, gyz = sim.gf.xyz['kyz'], sim.gf.xyz['gyz']\n",
    "kzz, gzz = sim.gf.xyz['kzz'], sim.gf.xyz['gzz']\n",
    "\n",
    "## Ricci tensor and Ricci scalar\n",
    "Rxx, Ryy, Rzz = sim.gf.xyz['Ricci11'], sim.gf.xyz['Ricci22'], sim.gf.xyz['Ricci33']\n",
    "Rxy, Rxz = sim.gf.xyz['Ricci12'], sim.gf.xyz['Ricci13']\n",
    "Ryz = sim.gf.xyz['Ricci23']\n",
    "R = sim.gf.xyz['Ricci']\n",
    "\n",
    "## Matter density, trace of K, determinant of g\n",
    "rho = sim.gf.xyz['rho']\n",
    "trk = sim.gf.xyz['trK']\n",
    "detg= sim.gf.xyz['detg'] "
   ]
  },
  {
   "cell_type": "code",
   "execution_count": 5,
   "id": "be6d1e38",
   "metadata": {},
   "outputs": [
    {
     "data": {
      "text/plain": [
       "0.04020930521645538"
      ]
     },
     "execution_count": 5,
     "metadata": {},
     "output_type": "execute_result"
    }
   ],
   "source": [
    "from localutils import delta_ini\n",
    "\n",
    "delta_ini(sim, p)"
   ]
  },
  {
   "cell_type": "code",
   "execution_count": 6,
   "id": "a9a6d61e",
   "metadata": {},
   "outputs": [
    {
     "name": "stdout",
     "output_type": "stream",
     "text": [
      "0.17553135533200542 -0.16463221021492586\n",
      "0.17553135533200542 -0.16463221021492586\n"
     ]
    }
   ],
   "source": [
    "# Sanity Check: Ricci scalar at OD and UD, at z_IN\n",
    "\n",
    "print(max(R[0][0][0][:,:,:].flatten()), min(R[0][0][0][:,:,:].flatten()))\n",
    "print(R[0][0][0][p,p,p], R[0][0][0][-p,-p,-p])"
   ]
  },
  {
   "cell_type": "code",
   "execution_count": null,
   "id": "6107a859",
   "metadata": {},
   "outputs": [],
   "source": [
    "# Background quantities\n",
    "\n",
    "# cctk time\n",
    "t = np.array(M1.x)  \n",
    "\n",
    "# Constants\n",
    "G=1.\n",
    "kappa = 8. * np.pi * G\n",
    "Omega_matter0 = 0.3147                \n",
    "Omega_lambda0 = 1. - Omega_matter0\n",
    "ICPertFLRW_h = 0.6737                   # Dimenstionless hubble parameter\n",
    "z_comoving_ref = 0.\n",
    "a0 = 1. + z_comoving_ref                # Comoving reference redshift: a_0= 1+z_comoving_ref\n",
    "H0 = ICPertFLRW_h * 1. / 2997.9         # Mpc\n",
    "t0_EdS= 2. / ( 3. * H0 )                # Used for both models\n",
    "    \n",
    "# Actual calculations (ICCalc.F90 and param.ccl)\n",
    "def a_factor(t):\n",
    "    scale_factor = a0 * (Omega_matter0 / Omega_lambda0 )**(1./3.)*\\\n",
    "        (np.sinh( np.sqrt(Omega_lambda0) * t / t0_EdS ) ** (2./3.))\n",
    "    return scale_factor  \n",
    "\n",
    "aa = a_factor(t)\n",
    "Hprop = H0 * np.sqrt(Omega_matter0 * ( aa / a0 )**(-3.) + Omega_lambda0)\n",
    "Omega_matter = Omega_matter0 / ( Omega_matter0 + Omega_lambda0 * ( aa / a0 )**3.) \n",
    "rhoflrw = 3. * Hprop**2. * Omega_matter / kappa"
   ]
  },
  {
   "cell_type": "code",
   "execution_count": null,
   "id": "f015145c",
   "metadata": {},
   "outputs": [],
   "source": [
    "# Synchornize timeseries and grid functions\n",
    "\n",
    "t.shape\n",
    "t_co = t[:avail_iter_max+1:diter]\n",
    "aa_co = a_factor(t_co)"
   ]
  },
  {
   "cell_type": "code",
   "execution_count": 26,
   "id": "68c7f272",
   "metadata": {},
   "outputs": [],
   "source": [
    "# Coarse Redshift\n",
    "\n",
    "def z_coarse(a):\n",
    "    return 1/a - 1\n",
    "\n",
    "z_co = z_coarse(aa_co)"
   ]
  },
  {
   "cell_type": "code",
   "execution_count": 32,
   "id": "82323218",
   "metadata": {},
   "outputs": [
    {
     "data": {
      "text/plain": [
       "<matplotlib.collections.LineCollection at 0x792a788ab7d0>"
      ]
     },
     "execution_count": 32,
     "metadata": {},
     "output_type": "execute_result"
    },
    {
     "data": {
      "image/png": "[encoded data removed]",
      "text/plain": [
       "<Figure size 640x480 with 1 Axes>"
      ]
     },
     "metadata": {},
     "output_type": "display_data"
    }
   ],
   "source": [
    "plt.plot(aa_co/aa_co[0], z_co)\n",
    "plt.hlines(y=7.6234, xmin=5, xmax=42, linestyle='--', color='k')"
   ]
  },
  {
   "cell_type": "code",
   "execution_count": 33,
   "id": "e2e21059",
   "metadata": {},
   "outputs": [
    {
     "ename": "NameError",
     "evalue": "name 'rhoflrw' is not defined",
     "output_type": "error",
     "traceback": [
      "\u001b[31m---------------------------------------------------------------------------\u001b[39m",
      "\u001b[31mNameError\u001b[39m                                 Traceback (most recent call last)",
      "\u001b[36mCell\u001b[39m\u001b[36m \u001b[39m\u001b[32mIn[33]\u001b[39m\u001b[32m, line 5\u001b[39m\n\u001b[32m      1\u001b[39m \u001b[38;5;66;03m# Matter density contrast, volume contrast, expansion contrast\u001b[39;00m\n\u001b[32m      2\u001b[39m \u001b[38;5;66;03m# Ricci scalar and trace of K\u001b[39;00m\n\u001b[32m      3\u001b[39m \u001b[38;5;66;03m# At the OD, UD and CT\u001b[39;00m\n\u001b[32m----> \u001b[39m\u001b[32m5\u001b[39m rhoflrw_co = \u001b[43mrhoflrw\u001b[49m[:avail_iter_max+\u001b[32m1\u001b[39m:diter]\n\u001b[32m      6\u001b[39m H_coarse = Hprop[:avail_iter_max+\u001b[32m1\u001b[39m:diter]\n\u001b[32m      8\u001b[39m \u001b[38;5;66;03m## Matter density contrast\u001b[39;00m\n",
      "\u001b[31mNameError\u001b[39m: name 'rhoflrw' is not defined"
     ]
    }
   ],
   "source": [
    "# Matter density contrast, volume contrast, expansion contrast\n",
    "# Ricci scalar and trace of K\n",
    "# At the OD, UD and CT\n",
    "\n",
    "rhoflrw_co = rhoflrw[:avail_iter_max+1:diter]\n",
    "H_coarse = Hprop[:avail_iter_max+1:diter]\n",
    "\n",
    "## Matter density contrast\n",
    "deltarho_OD = [rho[i][0][0][8, 8, 8] for i in range(0, 39921, 80)]/rhoflrw_co \n",
    "deltarho_UD = [rho[i][0][0][-8, -8, -8] for i in range(0, 39921, 80)]/rhoflrw_co \n",
    "deltarho_CT = [rho[i][0][0][16, 16, 16] for i in range(0, 39921, 80)]/rhoflrw_co \n",
    "\n",
    "## Ricci\n",
    "R_OD = np.array([R[i][0][0][  p,  p,  p] for i in range(0, avail_iter_max, diter)])\n",
    "R_UD = np.array([R[i][0][0][ -p, -p, -p] for i in range(0, avail_iter_max, diter)])\n",
    "R_CT = np.array([R[i][0][0][2*p,2*p,2*p] for i in range(0, avail_iter_max, diter)])\n",
    "\n",
    "## Trace of K\n",
    "trk_OD = np.array([trk[i][0][0][ 8, 8, 8] for i in avail_iter])/(-3.0*H_coarse) - 1.0\n",
    "trk_UD = np.array([trk[i][0][0][-8,-8,-8] for i in avail_iter])/(-3.0*H_coarse) - 1.0\n",
    "trk_CT = np.array([trk[i][0][0][16,16,16] for i in avail_iter])/(-3.0*H_coarse) - 1.0"
   ]
  },
  {
   "cell_type": "code",
   "execution_count": null,
   "id": "3d4df606",
   "metadata": {},
   "outputs": [],
   "source": [
    "# Plots\n",
    "\n",
    "ind = 0\n",
    "x = aa_ls/aa_ls[0] \n",
    "plt.plot(x,ud_list[ind:]/rhoflrw[::80][ind:] -1, label='UD')\n",
    "plt.plot(x,od_list[ind:]/rhoflrw[::80][ind:]- 1, label='OD')\n",
    "plt.plot(x,ct_list[ind:]/rhoflrw[::80][ind:] -1, label='CT')\n",
    "plt.legend()\n",
    "#plt.xlabel('cctk time')\n",
    "plt.xlabel(r'$a/a_{\\text{IN}}$')\n",
    "plt.title(r'$\\delta_{OD} \\text{ and } \\delta_{UD} $')\n",
    "plt.annotate(\n",
    "    'A_pert=7.5e-4\\nlambda_pert=640',  # Annotation text\n",
    "    xy=(5, 3.5),     # Point being annotated (arrow target)\n",
    "    xytext=(8, 3.5), # Position of the text\n",
    "    #arrowprops=dict(facecolor='black', shrink=0.05), # Arrow properties\n",
    "    ha='center'    # Horizontal alignment of the text\n",
    ")"
   ]
  },
  {
   "cell_type": "markdown",
   "id": "e0d9f4a3",
   "metadata": {},
   "source": [
    "# Contributions to the Raychaudhuri equation"
   ]
  },
  {
   "cell_type": "code",
   "execution_count": null,
   "id": "926db86a",
   "metadata": {},
   "outputs": [],
   "source": []
  }
 ],
 "metadata": {
  "kernelspec": {
   "display_name": "et2",
   "language": "python",
   "name": "python3"
  },
  "language_info": {
   "codemirror_mode": {
    "name": "ipython",
    "version": 3
   },
   "file_extension": ".py",
   "mimetype": "text/x-python",
   "name": "python",
   "nbconvert_exporter": "python",
   "pygments_lexer": "ipython3",
   "version": "3.12.11"
  }
 },
 "nbformat": 4,
 "nbformat_minor": 5
}
